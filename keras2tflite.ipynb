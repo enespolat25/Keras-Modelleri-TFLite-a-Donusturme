{
  "nbformat": 4,
  "nbformat_minor": 0,
  "metadata": {
    "colab": {
      "name": "keras2tflite.ipynb",
      "version": "0.3.2",
      "provenance": [],
      "collapsed_sections": []
    },
    "kernelspec": {
      "name": "python3",
      "display_name": "Python 3"
    },
    "accelerator": "GPU"
  },
  "cells": [
    {
      "cell_type": "markdown",
      "metadata": {
        "id": "otgzvFMQ1Gs6",
        "colab_type": "text"
      },
      "source": [
        "# KERAS MODELLERİMİZİ TFLITE 'A DÖNÜŞTÜRME\n",
        "## ÖRNEK BİR MODEL OLUŞTURALIM : MNIST VERİ SETİNİ MODELLEYELİM"
      ]
    },
    {
      "cell_type": "code",
      "metadata": {
        "id": "e7tW1hRpspvv",
        "colab_type": "code",
        "colab": {
          "base_uri": "https://localhost:8080/",
          "height": 801
        },
        "outputId": "7ebf03fb-5bd2-46ab-b40c-1471dff2cde5"
      },
      "source": [
        "from __future__ import print_function\n",
        "import keras\n",
        "from keras.datasets import mnist\n",
        "from keras.models import Sequential\n",
        "from keras.layers import Dense, Dropout, Flatten\n",
        "from keras.layers import Conv2D, MaxPooling2D\n",
        "from keras import backend as K\n",
        "\n",
        "batch_size = 128\n",
        "num_classes = 10\n",
        "epochs = 12\n",
        "\n",
        "# input image dimensions\n",
        "img_rows, img_cols = 28, 28\n",
        "\n",
        "# the data, split between train and test sets\n",
        "(x_train, y_train), (x_test, y_test) = mnist.load_data()\n",
        "\n",
        "if K.image_data_format() == 'channels_first':\n",
        "    x_train = x_train.reshape(x_train.shape[0], 1, img_rows, img_cols)\n",
        "    x_test = x_test.reshape(x_test.shape[0], 1, img_rows, img_cols)\n",
        "    input_shape = (1, img_rows, img_cols)\n",
        "else:\n",
        "    x_train = x_train.reshape(x_train.shape[0], img_rows, img_cols, 1)\n",
        "    x_test = x_test.reshape(x_test.shape[0], img_rows, img_cols, 1)\n",
        "    input_shape = (img_rows, img_cols, 1)\n",
        "\n",
        "x_train = x_train.astype('float32')\n",
        "x_test = x_test.astype('float32')\n",
        "x_train /= 255\n",
        "x_test /= 255\n",
        "print('x_train shape:', x_train.shape)\n",
        "print(x_train.shape[0], 'train samples')\n",
        "print(x_test.shape[0], 'test samples')\n",
        "\n",
        "# convert class vectors to binary class matrices\n",
        "y_train = keras.utils.to_categorical(y_train, num_classes)\n",
        "y_test = keras.utils.to_categorical(y_test, num_classes)\n",
        "\n",
        "model = Sequential()\n",
        "model.add(Conv2D(32, kernel_size=(3, 3),\n",
        "                 activation='relu',\n",
        "                 input_shape=input_shape))\n",
        "model.add(Conv2D(64, (3, 3), activation='relu'))\n",
        "model.add(MaxPooling2D(pool_size=(2, 2)))\n",
        "model.add(Dropout(0.25))\n",
        "model.add(Flatten())\n",
        "model.add(Dense(128, activation='relu'))\n",
        "model.add(Dropout(0.5))\n",
        "model.add(Dense(num_classes, activation='softmax'))\n",
        "\n",
        "model.compile(loss=keras.losses.categorical_crossentropy,\n",
        "              optimizer=keras.optimizers.Adadelta(),\n",
        "              metrics=['accuracy'])\n",
        "\n",
        "model.fit(x_train, y_train,\n",
        "          batch_size=batch_size,\n",
        "          epochs=epochs,\n",
        "          verbose=1,\n",
        "          validation_data=(x_test, y_test))\n",
        "score = model.evaluate(x_test, y_test, verbose=0)\n",
        "print('Test loss:', score[0])\n",
        "print('Test accuracy:', score[1])"
      ],
      "execution_count": 1,
      "outputs": [
        {
          "output_type": "stream",
          "text": [
            "Using TensorFlow backend.\n"
          ],
          "name": "stderr"
        },
        {
          "output_type": "stream",
          "text": [
            "Downloading data from https://s3.amazonaws.com/img-datasets/mnist.npz\n",
            "11493376/11490434 [==============================] - 2s 0us/step\n",
            "x_train shape: (60000, 28, 28, 1)\n",
            "60000 train samples\n",
            "10000 test samples\n",
            "WARNING:tensorflow:From /usr/local/lib/python3.6/dist-packages/tensorflow/python/framework/op_def_library.py:263: colocate_with (from tensorflow.python.framework.ops) is deprecated and will be removed in a future version.\n",
            "Instructions for updating:\n",
            "Colocations handled automatically by placer.\n",
            "WARNING:tensorflow:From /usr/local/lib/python3.6/dist-packages/keras/backend/tensorflow_backend.py:3445: calling dropout (from tensorflow.python.ops.nn_ops) with keep_prob is deprecated and will be removed in a future version.\n",
            "Instructions for updating:\n",
            "Please use `rate` instead of `keep_prob`. Rate should be set to `rate = 1 - keep_prob`.\n",
            "WARNING:tensorflow:From /usr/local/lib/python3.6/dist-packages/tensorflow/python/ops/math_ops.py:3066: to_int32 (from tensorflow.python.ops.math_ops) is deprecated and will be removed in a future version.\n",
            "Instructions for updating:\n",
            "Use tf.cast instead.\n",
            "Train on 60000 samples, validate on 10000 samples\n",
            "Epoch 1/12\n",
            "60000/60000 [==============================] - 14s 225us/step - loss: 0.2720 - acc: 0.9167 - val_loss: 0.0578 - val_acc: 0.9819\n",
            "Epoch 2/12\n",
            "60000/60000 [==============================] - 9s 143us/step - loss: 0.0887 - acc: 0.9739 - val_loss: 0.0394 - val_acc: 0.9864\n",
            "Epoch 3/12\n",
            "60000/60000 [==============================] - 9s 143us/step - loss: 0.0675 - acc: 0.9790 - val_loss: 0.0355 - val_acc: 0.9885\n",
            "Epoch 4/12\n",
            "60000/60000 [==============================] - 9s 143us/step - loss: 0.0551 - acc: 0.9836 - val_loss: 0.0331 - val_acc: 0.9893\n",
            "Epoch 5/12\n",
            "60000/60000 [==============================] - 9s 143us/step - loss: 0.0471 - acc: 0.9856 - val_loss: 0.0275 - val_acc: 0.9901\n",
            "Epoch 6/12\n",
            "60000/60000 [==============================] - 9s 143us/step - loss: 0.0432 - acc: 0.9870 - val_loss: 0.0277 - val_acc: 0.9912\n",
            "Epoch 7/12\n",
            "60000/60000 [==============================] - 9s 143us/step - loss: 0.0372 - acc: 0.9885 - val_loss: 0.0266 - val_acc: 0.9907\n",
            "Epoch 8/12\n",
            "60000/60000 [==============================] - 9s 143us/step - loss: 0.0353 - acc: 0.9891 - val_loss: 0.0256 - val_acc: 0.9913\n",
            "Epoch 9/12\n",
            "60000/60000 [==============================] - 9s 143us/step - loss: 0.0325 - acc: 0.9902 - val_loss: 0.0273 - val_acc: 0.9906\n",
            "Epoch 10/12\n",
            "60000/60000 [==============================] - 9s 144us/step - loss: 0.0283 - acc: 0.9910 - val_loss: 0.0272 - val_acc: 0.9905\n",
            "Epoch 11/12\n",
            "60000/60000 [==============================] - 9s 143us/step - loss: 0.0272 - acc: 0.9915 - val_loss: 0.0285 - val_acc: 0.9907\n",
            "Epoch 12/12\n",
            "60000/60000 [==============================] - 9s 143us/step - loss: 0.0269 - acc: 0.9917 - val_loss: 0.0292 - val_acc: 0.9911\n",
            "Test loss: 0.029233512003988108\n",
            "Test accuracy: 0.9911\n"
          ],
          "name": "stdout"
        }
      ]
    },
    {
      "cell_type": "markdown",
      "metadata": {
        "id": "ftpWqrvk0s95",
        "colab_type": "text"
      },
      "source": [
        "## \"keras_mdl.h5\" ismiyle keras modelimizi kaydedelim"
      ]
    },
    {
      "cell_type": "code",
      "metadata": {
        "id": "FT2TsAkivL2W",
        "colab_type": "code",
        "colab": {}
      },
      "source": [
        "keras_model=\"keras_mdl.h5\"\n",
        "keras.models.save_model(model,keras_model)"
      ],
      "execution_count": 0,
      "outputs": []
    },
    {
      "cell_type": "code",
      "metadata": {
        "id": "S0YY2Pr9yyzB",
        "colab_type": "code",
        "colab": {
          "base_uri": "https://localhost:8080/",
          "height": 35
        },
        "outputId": "2035aa4c-ef35-4161-f260-a55df8b459ef"
      },
      "source": [
        "!ls"
      ],
      "execution_count": 29,
      "outputs": [
        {
          "output_type": "stream",
          "text": [
            "keras_mdl.h5  sample_data\n"
          ],
          "name": "stdout"
        }
      ]
    },
    {
      "cell_type": "markdown",
      "metadata": {
        "id": "D1B5l64szDWK",
        "colab_type": "text"
      },
      "source": [
        "## Modelimizi dönüştürelim"
      ]
    },
    {
      "cell_type": "code",
      "metadata": {
        "id": "GB_6usoJyz0G",
        "colab_type": "code",
        "colab": {
          "base_uri": "https://localhost:8080/",
          "height": 146
        },
        "outputId": "bf1c9b8d-c85c-4d41-8767-4f075544d9bf"
      },
      "source": [
        "from tensorflow.contrib import lite\n",
        "donustur=lite.TocoConverter.from_keras_model_file(keras_model)\n",
        "tflite_model=donustur.convert()\n",
        "open('tflite_mld.tflite',\"wb\").write(tflite_model)"
      ],
      "execution_count": 31,
      "outputs": [
        {
          "output_type": "stream",
          "text": [
            "WARNING:tensorflow:From <ipython-input-31-97b2e516d8a4>:2: TocoConverter.from_keras_model_file (from tensorflow.lite.python.lite) is deprecated and will be removed in a future version.\n",
            "Instructions for updating:\n",
            "Use `lite.TFLiteConverter.from_keras_model_file` instead.\n",
            "INFO:tensorflow:Froze 8 variables.\n",
            "INFO:tensorflow:Converted 8 variables to const ops.\n"
          ],
          "name": "stdout"
        },
        {
          "output_type": "execute_result",
          "data": {
            "text/plain": [
              "4801492"
            ]
          },
          "metadata": {
            "tags": []
          },
          "execution_count": 31
        }
      ]
    },
    {
      "cell_type": "markdown",
      "metadata": {
        "id": "sBnhY3hz0618",
        "colab_type": "text"
      },
      "source": [
        "## \"tflite_mld.tflite\" ismiyle modelimiz oluşmuş mu kontrol edelim"
      ]
    },
    {
      "cell_type": "code",
      "metadata": {
        "id": "PABMGed9z10S",
        "colab_type": "code",
        "colab": {
          "base_uri": "https://localhost:8080/",
          "height": 35
        },
        "outputId": "8bb56d71-d06b-480f-a26b-be84fdff739a"
      },
      "source": [
        "!ls"
      ],
      "execution_count": 32,
      "outputs": [
        {
          "output_type": "stream",
          "text": [
            "keras_mdl.h5  sample_data  tflite_mld.tflite\n"
          ],
          "name": "stdout"
        }
      ]
    },
    {
      "cell_type": "markdown",
      "metadata": {
        "id": "Rq7wfVZk1o-B",
        "colab_type": "text"
      },
      "source": [
        "## COLAB ortamında oluşturduğumuz tflite modeli bilgisayarımıza indirelim"
      ]
    },
    {
      "cell_type": "code",
      "metadata": {
        "id": "nyOi8gi40nB0",
        "colab_type": "code",
        "colab": {}
      },
      "source": [
        "from google.colab import files\n",
        "files.download('tflite_mld.tflite') "
      ],
      "execution_count": 0,
      "outputs": []
    },
    {
      "cell_type": "markdown",
      "metadata": {
        "id": "8E6cr5Rv2jBD",
        "colab_type": "text"
      },
      "source": [
        "# Faydalı olması dileğiyle"
      ]
    }
  ]
}